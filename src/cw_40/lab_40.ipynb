{
 "cells": [
  {
   "cell_type": "code",
   "execution_count": 26,
   "metadata": {
    "collapsed": true
   },
   "outputs": [],
   "source": [
    "import pandas as pd\n",
    "import numpy as np\n",
    "import seaborn as sns\n",
    "import matplotlib.pyplot as plt\n",
    "from scipy.optimize import curve_fit\n",
    "sns.set(style=\"darkgrid\")\n",
    "def convert_to_number(series,start=0):\n",
    "    return series.loc[start:].replace(to_replace=r'[,]',value='.', regex=True).astype(float)"
   ]
  },
  {
   "cell_type": "code",
   "execution_count": 27,
   "outputs": [],
   "source": [
    "df = pd.read_csv('../../data/40/data_40.csv')"
   ],
   "metadata": {
    "collapsed": false,
    "pycharm": {
     "name": "#%%\n"
    }
   }
  },
  {
   "cell_type": "code",
   "execution_count": 28,
   "outputs": [
    {
     "data": {
      "text/plain": "        H_max     B_max       B_r          μ_r         H_c\n0  455.933426  1.524868  1.386243  2661.465713  134.098066\n1  423.060483  1.386243  1.247619  2607.517084  132.206401\n2  381.326138  1.247619  1.108995  2603.607763  108.950325\n3  354.170228  1.108995  0.970370  2491.767738  108.975455\n4  320.153879  0.970370  0.831746  2411.953303  116.419592\n5  293.569673  0.970370  0.693122  2630.367769   88.070902\n6  261.268433  0.831746  0.554497  2533.342637   97.975662\n7  232.969117  0.693122  0.415873  2367.561524  116.484559\n8  207.528318  0.693122  0.277249  2657.799783   83.011327\n9  174.083672  0.554497  0.277249  2534.729251   87.041836",
      "text/html": "<div>\n<style scoped>\n    .dataframe tbody tr th:only-of-type {\n        vertical-align: middle;\n    }\n\n    .dataframe tbody tr th {\n        vertical-align: top;\n    }\n\n    .dataframe thead th {\n        text-align: right;\n    }\n</style>\n<table border=\"1\" class=\"dataframe\">\n  <thead>\n    <tr style=\"text-align: right;\">\n      <th></th>\n      <th>H_max</th>\n      <th>B_max</th>\n      <th>B_r</th>\n      <th>μ_r</th>\n      <th>H_c</th>\n    </tr>\n  </thead>\n  <tbody>\n    <tr>\n      <th>0</th>\n      <td>455.933426</td>\n      <td>1.524868</td>\n      <td>1.386243</td>\n      <td>2661.465713</td>\n      <td>134.098066</td>\n    </tr>\n    <tr>\n      <th>1</th>\n      <td>423.060483</td>\n      <td>1.386243</td>\n      <td>1.247619</td>\n      <td>2607.517084</td>\n      <td>132.206401</td>\n    </tr>\n    <tr>\n      <th>2</th>\n      <td>381.326138</td>\n      <td>1.247619</td>\n      <td>1.108995</td>\n      <td>2603.607763</td>\n      <td>108.950325</td>\n    </tr>\n    <tr>\n      <th>3</th>\n      <td>354.170228</td>\n      <td>1.108995</td>\n      <td>0.970370</td>\n      <td>2491.767738</td>\n      <td>108.975455</td>\n    </tr>\n    <tr>\n      <th>4</th>\n      <td>320.153879</td>\n      <td>0.970370</td>\n      <td>0.831746</td>\n      <td>2411.953303</td>\n      <td>116.419592</td>\n    </tr>\n    <tr>\n      <th>5</th>\n      <td>293.569673</td>\n      <td>0.970370</td>\n      <td>0.693122</td>\n      <td>2630.367769</td>\n      <td>88.070902</td>\n    </tr>\n    <tr>\n      <th>6</th>\n      <td>261.268433</td>\n      <td>0.831746</td>\n      <td>0.554497</td>\n      <td>2533.342637</td>\n      <td>97.975662</td>\n    </tr>\n    <tr>\n      <th>7</th>\n      <td>232.969117</td>\n      <td>0.693122</td>\n      <td>0.415873</td>\n      <td>2367.561524</td>\n      <td>116.484559</td>\n    </tr>\n    <tr>\n      <th>8</th>\n      <td>207.528318</td>\n      <td>0.693122</td>\n      <td>0.277249</td>\n      <td>2657.799783</td>\n      <td>83.011327</td>\n    </tr>\n    <tr>\n      <th>9</th>\n      <td>174.083672</td>\n      <td>0.554497</td>\n      <td>0.277249</td>\n      <td>2534.729251</td>\n      <td>87.041836</td>\n    </tr>\n  </tbody>\n</table>\n</div>"
     },
     "execution_count": 28,
     "metadata": {},
     "output_type": "execute_result"
    }
   ],
   "source": [
    "for i in df:\n",
    "    df[i] = convert_to_number(df[i])\n",
    "df"
   ],
   "metadata": {
    "collapsed": false,
    "pycharm": {
     "name": "#%%\n"
    }
   }
  },
  {
   "cell_type": "code",
   "execution_count": 29,
   "outputs": [],
   "source": [
    "import math\n",
    "\n",
    "N_1 = 9500 # number of turns\n",
    "N_2 = 1400 # number of turns\n",
    "S = 81 # mm^2\n",
    "l = 4.7 # cm\n",
    "R_1 = 203 # Ohm\n",
    "R_2 = 786 * math.pow(10, 3) # Ohm\n",
    "C = math.pow(10, -7) # Farad\n",
    "mu_0 = 4 * math.pi * math.pow(10, -7) # Turn / Ampere^2"
   ],
   "metadata": {
    "collapsed": false,
    "pycharm": {
     "name": "#%%\n"
    }
   }
  },
  {
   "cell_type": "code",
   "execution_count": 37,
   "outputs": [
    {
     "data": {
      "text/plain": "  i_sk [mA] w_x [V/dz] w_y [V/dz] X [dzialki] Y [dzialki] Xc [dzialki]  \\\n0     1.595        0.2        0.2          11          17            5   \n1      1.48        0.2        0.2          10          16            5   \n2     1.334        0.2        0.2           9          14            4   \n3     1.239        0.2        0.2           8          13            4   \n4      1.12        0.2        0.2           7          11            4   \n5     1.027        0.2        0.2           7          10            3   \n6     0.914        0.2        0.2           6           8            3   \n7     0.815        0.2        0.2           5           6            3   \n8     0.726        0.2        0.2           5           5            2   \n9     0.609        0.2        0.2           4           4            2   \n\n  Yr [dzialki]  \n0           10  \n1            9  \n2            8  \n3            7  \n4            6  \n5            5  \n6            4  \n7            3  \n8            2  \n9            2  ",
      "text/html": "<div>\n<style scoped>\n    .dataframe tbody tr th:only-of-type {\n        vertical-align: middle;\n    }\n\n    .dataframe tbody tr th {\n        vertical-align: top;\n    }\n\n    .dataframe thead th {\n        text-align: right;\n    }\n</style>\n<table border=\"1\" class=\"dataframe\">\n  <thead>\n    <tr style=\"text-align: right;\">\n      <th></th>\n      <th>i_sk [mA]</th>\n      <th>w_x [V/dz]</th>\n      <th>w_y [V/dz]</th>\n      <th>X [dzialki]</th>\n      <th>Y [dzialki]</th>\n      <th>Xc [dzialki]</th>\n      <th>Yr [dzialki]</th>\n    </tr>\n  </thead>\n  <tbody>\n    <tr>\n      <th>0</th>\n      <td>1.595</td>\n      <td>0.2</td>\n      <td>0.2</td>\n      <td>11</td>\n      <td>17</td>\n      <td>5</td>\n      <td>10</td>\n    </tr>\n    <tr>\n      <th>1</th>\n      <td>1.48</td>\n      <td>0.2</td>\n      <td>0.2</td>\n      <td>10</td>\n      <td>16</td>\n      <td>5</td>\n      <td>9</td>\n    </tr>\n    <tr>\n      <th>2</th>\n      <td>1.334</td>\n      <td>0.2</td>\n      <td>0.2</td>\n      <td>9</td>\n      <td>14</td>\n      <td>4</td>\n      <td>8</td>\n    </tr>\n    <tr>\n      <th>3</th>\n      <td>1.239</td>\n      <td>0.2</td>\n      <td>0.2</td>\n      <td>8</td>\n      <td>13</td>\n      <td>4</td>\n      <td>7</td>\n    </tr>\n    <tr>\n      <th>4</th>\n      <td>1.12</td>\n      <td>0.2</td>\n      <td>0.2</td>\n      <td>7</td>\n      <td>11</td>\n      <td>4</td>\n      <td>6</td>\n    </tr>\n    <tr>\n      <th>5</th>\n      <td>1.027</td>\n      <td>0.2</td>\n      <td>0.2</td>\n      <td>7</td>\n      <td>10</td>\n      <td>3</td>\n      <td>5</td>\n    </tr>\n    <tr>\n      <th>6</th>\n      <td>0.914</td>\n      <td>0.2</td>\n      <td>0.2</td>\n      <td>6</td>\n      <td>8</td>\n      <td>3</td>\n      <td>4</td>\n    </tr>\n    <tr>\n      <th>7</th>\n      <td>0.815</td>\n      <td>0.2</td>\n      <td>0.2</td>\n      <td>5</td>\n      <td>6</td>\n      <td>3</td>\n      <td>3</td>\n    </tr>\n    <tr>\n      <th>8</th>\n      <td>0.726</td>\n      <td>0.2</td>\n      <td>0.2</td>\n      <td>5</td>\n      <td>5</td>\n      <td>2</td>\n      <td>2</td>\n    </tr>\n    <tr>\n      <th>9</th>\n      <td>0.609</td>\n      <td>0.2</td>\n      <td>0.2</td>\n      <td>4</td>\n      <td>4</td>\n      <td>2</td>\n      <td>2</td>\n    </tr>\n  </tbody>\n</table>\n</div>"
     },
     "execution_count": 37,
     "metadata": {},
     "output_type": "execute_result"
    }
   ],
   "source": [
    "data = pd.read_excel(r'../../data/40/cw40data.xlsx')\n",
    "df2 = pd.DataFrame(data, columns= ['i_sk [mA]', 'w_x [V/dz]', 'w_y [V/dz]', 'X [dzialki]', 'Y [dzialki]', 'Xc [dzialki]'\n",
    "                                  , 'Yr [dzialki]'])\n",
    "\n",
    "df2 = df2[:10]\n",
    "\n",
    "\n",
    "df2"
   ],
   "metadata": {
    "collapsed": false,
    "pycharm": {
     "name": "#%%\n"
    }
   }
  },
  {
   "cell_type": "code",
   "execution_count": null,
   "outputs": [],
   "source": [
    "df3 = pd.DataFrame"
   ],
   "metadata": {
    "collapsed": false,
    "pycharm": {
     "name": "#%%\n"
    }
   }
  },
  {
   "cell_type": "code",
   "execution_count": 32,
   "outputs": [],
   "source": [
    "#sns.relplot(y='B_max', x='H_max', data=df, height=9)\n",
    "#sns.relplot(y='μ_r', x='H_max', data=df, height=9)\n",
    "#sns.relplot(y='B_r', x='H_max', data=df, height=9)\n",
    "#sns.relplot(y='H_c', x='H_max', data=df, height=9)\n"
   ],
   "metadata": {
    "collapsed": false,
    "pycharm": {
     "name": "#%%\n"
    }
   }
  },
  {
   "cell_type": "code",
   "execution_count": 31,
   "outputs": [],
   "source": [
    "\n"
   ],
   "metadata": {
    "collapsed": false,
    "pycharm": {
     "name": "#%%\n"
    }
   }
  }
 ],
 "metadata": {
  "kernelspec": {
   "name": "python3",
   "language": "python",
   "display_name": "Python 3"
  },
  "language_info": {
   "codemirror_mode": {
    "name": "ipython",
    "version": 2
   },
   "file_extension": ".py",
   "mimetype": "text/x-python",
   "name": "python",
   "nbconvert_exporter": "python",
   "pygments_lexer": "ipython2",
   "version": "2.7.6"
  }
 },
 "nbformat": 4,
 "nbformat_minor": 0
}