{
 "cells": [
  {
   "cell_type": "markdown",
   "source": [
    "# Badanie właściwości ferroelektryków: \n",
    "# Opracacowanie wyników\n"
   ],
   "metadata": {
    "collapsed": false,
    "pycharm": {
     "name": "#%% md\n"
    }
   }
  },
  {
   "cell_type": "code",
   "execution_count": 18,
   "metadata": {
    "collapsed": true,
    "pycharm": {
     "is_executing": false
    }
   },
   "outputs": [],
   "source": [
    "import pandas as pd\n",
    "import numpy as np\n",
    "import gc\n",
    "import seaborn as sns\n",
    "import matplotlib.pyplot as plt\n",
    "sns.set(style=\"darkgrid\")\n",
    "def convert_to_number(series,start=0):\n",
    "    return series.loc[start:].replace(to_replace=r'[,]',value='.', regex=True).astype(float)\n"
   ]
  },
  {
   "cell_type": "markdown",
   "source": [
    "## Parsowanie danych i przygotowanie do dalszej obróbki"
   ],
   "metadata": {
    "collapsed": false,
    "pycharm": {
     "name": "#%% md\n"
    }
   }
  },
  {
   "cell_type": "code",
   "execution_count": 20,
   "outputs": [
    {
     "data": {
      "text/plain": "      R1 [Ω]   R2 [Ω]       S [m^2]   d [m]  C_0 [mF]  α1 [V]  α2 [mV]\n0  3800000.0  26000.0  1.160000e-09  0.0022       1.0     5.0     20.0",
      "text/html": "<div>\n<style scoped>\n    .dataframe tbody tr th:only-of-type {\n        vertical-align: middle;\n    }\n\n    .dataframe tbody tr th {\n        vertical-align: top;\n    }\n\n    .dataframe thead th {\n        text-align: right;\n    }\n</style>\n<table border=\"1\" class=\"dataframe\">\n  <thead>\n    <tr style=\"text-align: right;\">\n      <th></th>\n      <th>R1 [Ω]</th>\n      <th>R2 [Ω]</th>\n      <th>S [m^2]</th>\n      <th>d [m]</th>\n      <th>C_0 [mF]</th>\n      <th>α1 [V]</th>\n      <th>α2 [mV]</th>\n    </tr>\n  </thead>\n  <tbody>\n    <tr>\n      <th>0</th>\n      <td>3800000.0</td>\n      <td>26000.0</td>\n      <td>1.160000e-09</td>\n      <td>0.0022</td>\n      <td>1.0</td>\n      <td>5.0</td>\n      <td>20.0</td>\n    </tr>\n  </tbody>\n</table>\n</div>"
     },
     "metadata": {},
     "output_type": "execute_result",
     "execution_count": 20
    }
   ],
   "source": [
    "df_const = pd.read_csv('../../data/39/data_39.csv')\n",
    "df_const['t [°C]'] = convert_to_number(df_const['t [°C]'])\n",
    "df_const['Xc [dz]'] = convert_to_number(df_const['Xc [dz]'])\n",
    "df_const['Ys [dz]'] = convert_to_number(df_const['Ys [dz]'])\n",
    "df_const['S [m^2]'] = convert_to_number(df_const['S [m^2]'])\n",
    "df_const['d [m]'] = convert_to_number(df_const['d [m]'])\n",
    "series = [df_const['t [°C]'], df_const['Xc [dz]'], df_const['Ys [dz]'] ]\n",
    "df_var = pd.DataFrame().join(series, how='outer')\n",
    "for s in series:\n",
    "    df_const = df_const.drop(s.name,axis=1)\n",
    "df_const = df_const.dropna()\n",
    "df_const"
   ],
   "metadata": {
    "collapsed": false,
    "pycharm": {
     "name": "#%%\n",
     "is_executing": false
    }
   }
  },
  {
   "cell_type": "code",
   "execution_count": 21,
   "outputs": [
    {
     "data": {
      "text/plain": "   t [°C]  Xc [dz]  Ys [dz]   T [K]\n0    28.1      4.0      4.0  302.25\n1    30.1      4.0      4.0  304.25\n2    32.1      4.0      4.0  306.25\n3    36.0      3.0      3.0  310.15\n4    38.2      3.0      3.0  312.35",
      "text/html": "<div>\n<style scoped>\n    .dataframe tbody tr th:only-of-type {\n        vertical-align: middle;\n    }\n\n    .dataframe tbody tr th {\n        vertical-align: top;\n    }\n\n    .dataframe thead th {\n        text-align: right;\n    }\n</style>\n<table border=\"1\" class=\"dataframe\">\n  <thead>\n    <tr style=\"text-align: right;\">\n      <th></th>\n      <th>t [°C]</th>\n      <th>Xc [dz]</th>\n      <th>Ys [dz]</th>\n      <th>T [K]</th>\n    </tr>\n  </thead>\n  <tbody>\n    <tr>\n      <th>0</th>\n      <td>28.1</td>\n      <td>4.0</td>\n      <td>4.0</td>\n      <td>302.25</td>\n    </tr>\n    <tr>\n      <th>1</th>\n      <td>30.1</td>\n      <td>4.0</td>\n      <td>4.0</td>\n      <td>304.25</td>\n    </tr>\n    <tr>\n      <th>2</th>\n      <td>32.1</td>\n      <td>4.0</td>\n      <td>4.0</td>\n      <td>306.25</td>\n    </tr>\n    <tr>\n      <th>3</th>\n      <td>36.0</td>\n      <td>3.0</td>\n      <td>3.0</td>\n      <td>310.15</td>\n    </tr>\n    <tr>\n      <th>4</th>\n      <td>38.2</td>\n      <td>3.0</td>\n      <td>3.0</td>\n      <td>312.35</td>\n    </tr>\n  </tbody>\n</table>\n</div>"
     },
     "metadata": {},
     "output_type": "execute_result",
     "execution_count": 21
    }
   ],
   "source": [
    "df_var['T [K]'] = df_var['t [°C]']+ 274.15\n",
    "df_var.head()\n"
   ],
   "metadata": {
    "collapsed": false,
    "pycharm": {
     "name": "#%%\n",
     "is_executing": false
    }
   }
  },
  {
   "cell_type": "markdown",
   "source": [
    "## Wyliczanie E<sub>c</sub> oraz P<sub>s\n"
   ],
   "metadata": {
    "collapsed": false,
    "pycharm": {
     "name": "#%% md\n",
     "is_executing": false
    }
   }
  },
  {
   "cell_type": "code",
   "execution_count": 28,
   "outputs": [
    {
     "data": {
      "text/plain": "0     1.337762e+07\n1     1.337762e+07\n2     1.337762e+07\n3     1.003322e+07\n4     1.003322e+07\n5     1.003322e+07\n6     1.003322e+07\n7     6.688811e+06\n8     6.688811e+06\n9     6.688811e+06\n10    6.688811e+06\n11    3.344406e+06\n12    0.000000e+00\n13    0.000000e+00\nName: E_c [V/m], dtype: float64"
     },
     "metadata": {},
     "output_type": "execute_result",
     "execution_count": 28
    }
   ],
   "source": [
    "df_const['α2 [V]'] = df_const['α2 [mV]'] / 1000\n",
    "const =( df_const['R1 [Ω]'] + df_const['R2 [Ω]'])/(df_const['α2 [V]']*df_const['R2 [Ω]']*df_const['d [m]'])\n",
    "const = const[0]\n",
    "df_var['E_c [V/m]'] = df_var['Xc [dz]'] * const"
   ],
   "metadata": {
    "collapsed": false,
    "pycharm": {
     "name": "#%%\n",
     "is_executing": false
    }
   }
  },
  {
   "cell_type": "code",
   "execution_count": 31,
   "outputs": [],
   "source": [
    "const = (df_const['C_0 [mF]']/1000)/(df_const['S [m^2]'] * df_const['α1 [V]'])\n",
    "const = const[0]\n",
    "df_var['P_s C/m^2'] = df_var['Ys [dz]']*const"
   ],
   "metadata": {
    "collapsed": false,
    "pycharm": {
     "name": "#%%\n",
     "is_executing": false
    }
   }
  },
  {
   "cell_type": "code",
   "execution_count": 35,
   "outputs": [
    {
     "data": {
      "text/plain": "<seaborn.axisgrid.FacetGrid at 0x7fd2a6159cd0>"
     },
     "metadata": {},
     "output_type": "execute_result",
     "execution_count": 35
    },
    {
     "data": {
      "text/plain": "<Figure size 720x720 with 1 Axes>",
      "image/png": "[encoded data removed]"
     },
     "metadata": {},
     "output_type": "display_data"
    },
    {
     "data": {
      "text/plain": "<Figure size 720x720 with 1 Axes>",
      "image/png": "[encoded data removed]"
     },
     "metadata": {},
     "output_type": "display_data"
    }
   ],
   "source": [
    "sns.relplot(y='P_s C/m^2', x='T [K]', data=df_var, height=10)\n",
    "\n"
   ],
   "metadata": {
    "collapsed": false,
    "pycharm": {
     "name": "#%%\n",
     "is_executing": false
    }
   }
  },
  {
   "cell_type": "code",
   "execution_count": null,
   "outputs": [],
   "source": [
    "\n"
   ],
   "metadata": {
    "collapsed": false,
    "pycharm": {
     "name": "#%%\n"
    }
   }
  }
 ],
 "metadata": {
  "kernelspec": {
   "name": "pycharm-2e16c6ab",
   "language": "python",
   "display_name": "PyCharm (Laboratories)"
  },
  "language_info": {
   "codemirror_mode": {
    "name": "ipython",
    "version": 2
   },
   "file_extension": ".py",
   "mimetype": "text/x-python",
   "name": "python",
   "nbconvert_exporter": "python",
   "pygments_lexer": "ipython2",
   "version": "2.7.6"
  },
  "pycharm": {
   "stem_cell": {
    "cell_type": "raw",
    "source": [],
    "metadata": {
     "collapsed": false
    }
   }
  }
 },
 "nbformat": 4,
 "nbformat_minor": 0
}