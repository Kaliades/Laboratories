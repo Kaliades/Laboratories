{
 "cells": [
  {
   "cell_type": "markdown",
   "source": [
    "# Ćwiczenie 41 \n",
    "# Wyznaczanie przerwy energetycznej i innych parametrów złącza p  n dla Si i Ge"
   ],
   "metadata": {
    "collapsed": false,
    "pycharm": {
     "name": "#%% md\n"
    }
   }
  },
  {
   "cell_type": "code",
   "execution_count": 122,
   "metadata": {
    "collapsed": true,
    "pycharm": {
     "is_executing": false
    }
   },
   "outputs": [],
   "source": [
    "import pandas as pd\n",
    "import numpy as np\n",
    "import gc\n",
    "import seaborn as sns\n",
    "sns.set(style=\"darkgrid\")"
   ]
  },
  {
   "cell_type": "markdown",
   "source": [
    "### Parsowanie danych "
   ],
   "metadata": {
    "collapsed": false,
    "pycharm": {
     "name": "#%% md\n"
    }
   }
  },
  {
   "cell_type": "code",
   "execution_count": 123,
   "outputs": [],
   "source": [
    "df = pd.read_csv('../../data/41/41_csv.csv')"
   ],
   "metadata": {
    "collapsed": false,
    "pycharm": {
     "name": "#%%\n",
     "is_executing": false
    }
   }
  },
  {
   "cell_type": "code",
   "execution_count": 124,
   "outputs": [],
   "source": [
    "def convert_to_number(series,start=0):\n",
    "    return series.loc[start:].replace(to_replace=r'[,]',value='.', regex=True).astype(float)\n",
    "\n",
    "def convert_data_frame(df, coulmn_name_new_column_name):\n",
    "    series = dict()\n",
    "    for key in coulmn_name_new_column_name.items():\n",
    "        s = df[key[0]]\n",
    "        series[key[1]]=(convert_to_number(s,1))\n",
    "    return pd.DataFrame(series)"
   ],
   "metadata": {
    "collapsed": false,
    "pycharm": {
     "name": "#%%\n",
     "is_executing": false
    }
   }
  },
  {
   "cell_type": "code",
   "execution_count": 125,
   "outputs": [],
   "source": [
    "df_si = convert_data_frame(df, {'SI':'U [V]', \"Unnamed: 1\": 'I [mA]', 'Unnamed: 2': 'T [C]'})\n",
    "df_ge = convert_data_frame(df, {'Ge':'U [V]', \"Unnamed: 4\": 'I [mA]', 'Unnamed: 5': 'T [C]'})\n",
    "df_task_2 = convert_data_frame(df, {'I=const=6 [mA]':'T [C]', 'Unnamed: 7': 'U_Si [V]', 'Unnamed: 8':'U_Ge [V]'})"
   ],
   "metadata": {
    "collapsed": false,
    "pycharm": {
     "name": "#%%\n",
     "is_executing": false
    }
   }
  },
  {
   "cell_type": "code",
   "execution_count": 134,
   "outputs": [],
   "source": [
    "df_task_2['I [mA]'] = pd.Series([0,6])"
   ],
   "metadata": {
    "collapsed": false,
    "pycharm": {
     "name": "#%%\n",
     "is_executing": false
    }
   }
  },
  {
   "cell_type": "code",
   "execution_count": null,
   "outputs": [],
   "source": [
    "li_df = [df]\n",
    "del li_df\n",
    "del  df\n",
    "gc.collect()"
   ],
   "metadata": {
    "collapsed": false,
    "pycharm": {
     "name": "#%%\n",
     "is_executing": false
    }
   }
  },
  {
   "cell_type": "markdown",
   "source": [
    "## Wyznaczanie prądu wstecznego i współczynnika doskonałośc\n"
   ],
   "metadata": {
    "collapsed": false,
    "pycharm": {
     "name": "#%% md\n"
    }
   }
  },
  {
   "cell_type": "code",
   "execution_count": 147,
   "outputs": [],
   "source": [
    "df_si['ln(I)'] = np.log(df_si['I [mA]'])\n",
    "df_ge['ln(I)'] = np.log(df_ge['I [mA]'])"
   ],
   "metadata": {
    "collapsed": false,
    "pycharm": {
     "name": "#%%\n",
     "is_executing": false
    }
   }
  },
  {
   "cell_type": "markdown",
   "source": [
    "### Wykres zależności ln(U) dla Krzemu"
   ],
   "metadata": {
    "collapsed": false,
    "pycharm": {
     "name": "#%% md\n",
     "is_executing": false
    }
   }
  },
  {
   "cell_type": "code",
   "execution_count": 148,
   "outputs": [
    {
     "data": {
      "text/plain": "<seaborn.axisgrid.FacetGrid at 0x7fce7f1b5a90>"
     },
     "metadata": {},
     "output_type": "execute_result",
     "execution_count": 148
    },
    {
     "data": {
      "text/plain": "<Figure size 576x576 with 1 Axes>",
      "image/png": "[encoded data removed]"
     },
     "metadata": {},
     "output_type": "display_data"
    }
   ],
   "source": [
    "sns.relplot(x='U [V]', y='ln(I)',height=8, data=df_si)"
   ],
   "metadata": {
    "collapsed": false,
    "pycharm": {
     "name": "#%%\n",
     "is_executing": false
    }
   }
  },
  {
   "cell_type": "markdown",
   "source": [
    "### Wykres zależności ln(U) dla Germanu"
   ],
   "metadata": {
    "collapsed": false,
    "pycharm": {
     "name": "#%% md\n"
    }
   }
  },
  {
   "cell_type": "code",
   "execution_count": 149,
   "outputs": [
    {
     "data": {
      "text/plain": "<seaborn.axisgrid.FacetGrid at 0x7fce849348e0>"
     },
     "metadata": {},
     "output_type": "execute_result",
     "execution_count": 149
    },
    {
     "data": {
      "text/plain": "<Figure size 576x576 with 1 Axes>",
      "image/png": "[encoded data removed]"
     },
     "metadata": {},
     "output_type": "display_data"
    }
   ],
   "source": [
    "sns.relplot(x='U [V]', y='ln(I)',height=8, data=df_ge)"
   ],
   "metadata": {
    "collapsed": false,
    "pycharm": {
     "name": "#%%\n",
     "is_executing": false
    }
   }
  },
  {
   "cell_type": "markdown",
   "source": [
    "### Budowanie modelu regresji linowej "
   ],
   "metadata": {
    "collapsed": false,
    "pycharm": {
     "name": "#%% md\n"
    }
   }
  },
  {
   "cell_type": "code",
   "execution_count": null,
   "outputs": [],
   "source": [
    "x = df_si['U [V]']\n",
    "y = df_si['ln(I)']\n",
    "model_si = np.poly1d(np.polyfit(x, y, 1))\n",
    "x = df_ge['U [V]']\n",
    "y = df_ge['ln(I)']\n",
    "model_ge = np.poly1d(np.polyfit(x,y,1))\n",
    "print(model_si)\n",
    "print(model_ge)"
   ],
   "metadata": {
    "collapsed": false,
    "pycharm": {
     "name": "#%%\n",
     "is_executing": false
    }
   }
  },
  {
   "cell_type": "markdown",
   "source": [
    "### Wyznaczanie prądu wstecznego I<sub>0</sub>"
   ],
   "metadata": {
    "collapsed": false,
    "pycharm": {
     "name": "#%% md\n"
    }
   }
  },
  {
   "cell_type": "code",
   "execution_count": null,
   "outputs": [],
   "source": [
    "import math\n",
    "I_0_se = math.exp(model_si.coef[1])\n",
    "I_0_ge = math.exp(model_ge.coef[1])\n",
    "print(f\"I_0 dla krzemu: {I_0_se}\")\n",
    "print(f\"I_0 dla germanu: {I_0_ge}\")"
   ],
   "metadata": {
    "collapsed": false,
    "pycharm": {
     "name": "#%%\n",
     "is_executing": false
    }
   }
  },
  {
   "cell_type": "markdown",
   "source": [
    "### Wyznaczanie współczynnika doskonałości\n"
   ],
   "metadata": {
    "collapsed": false,
    "pycharm": {
     "name": "#%% md\n"
    }
   }
  },
  {
   "cell_type": "code",
   "execution_count": null,
   "outputs": [],
   "source": [
    "T_si = 27.3 + 273.15\n",
    "T_ge = 27.3 + 273.15\n",
    "k = 8.6173303 * math.pow(10, -5)\n",
    "e = -1.6021766208 * math.pow(10, -19)"
   ],
   "metadata": {
    "collapsed": false,
    "pycharm": {
     "name": "#%%\n",
     "is_executing": false
    }
   }
  },
  {
   "cell_type": "code",
   "execution_count": null,
   "outputs": [],
   "source": [
    "a_si = model_si.coef[0]\n",
    "coef_exc_si = e/(k*T_si*a_si)\n",
    "a_ge = model_ge.coef[0]\n",
    "coef_exc_ge = e/(k*T_si*a_ge)\n",
    "print(f'Współczynnik dla krzemu: {coef_exc_si}')\n",
    "print(f'Współczynnik dla germanu: {coef_exc_ge}')"
   ],
   "metadata": {
    "collapsed": false,
    "pycharm": {
     "name": "#%%\n",
     "is_executing": false
    }
   }
  },
  {
   "cell_type": "markdown",
   "source": [
    "## Wyznaczanie szerokości przerwy energetycznej E<sub>g</sub> "
   ],
   "metadata": {
    "collapsed": false,
    "pycharm": {
     "name": "#%% md\n"
    }
   }
  },
  {
   "cell_type": "code",
   "execution_count": 138,
   "outputs": [
    {
     "data": {
      "text/plain": "    T [C]  U_Si [V]  U_Ge [V]  I [mA]   T [K]\n1    24.6     0.654     0.250     6.0  297.75\n2    30.0     0.647     0.244     NaN  303.15\n3    35.0     0.640     0.236     NaN  308.15\n4    40.0     0.632     0.228     NaN  313.15\n5    45.0     0.623     0.220     NaN  318.15\n6    50.0     0.613     0.211     NaN  323.15\n7    55.0     0.603     0.202     NaN  328.15\n8    62.0     0.588     0.187     NaN  335.15\n9    69.0     0.572     0.171     NaN  342.15\n10    NaN       NaN       NaN     NaN     NaN",
      "text/html": "<div>\n<style scoped>\n    .dataframe tbody tr th:only-of-type {\n        vertical-align: middle;\n    }\n\n    .dataframe tbody tr th {\n        vertical-align: top;\n    }\n\n    .dataframe thead th {\n        text-align: right;\n    }\n</style>\n<table border=\"1\" class=\"dataframe\">\n  <thead>\n    <tr style=\"text-align: right;\">\n      <th></th>\n      <th>T [C]</th>\n      <th>U_Si [V]</th>\n      <th>U_Ge [V]</th>\n      <th>I [mA]</th>\n      <th>T [K]</th>\n    </tr>\n  </thead>\n  <tbody>\n    <tr>\n      <th>1</th>\n      <td>24.6</td>\n      <td>0.654</td>\n      <td>0.250</td>\n      <td>6.0</td>\n      <td>297.75</td>\n    </tr>\n    <tr>\n      <th>2</th>\n      <td>30.0</td>\n      <td>0.647</td>\n      <td>0.244</td>\n      <td>NaN</td>\n      <td>303.15</td>\n    </tr>\n    <tr>\n      <th>3</th>\n      <td>35.0</td>\n      <td>0.640</td>\n      <td>0.236</td>\n      <td>NaN</td>\n      <td>308.15</td>\n    </tr>\n    <tr>\n      <th>4</th>\n      <td>40.0</td>\n      <td>0.632</td>\n      <td>0.228</td>\n      <td>NaN</td>\n      <td>313.15</td>\n    </tr>\n    <tr>\n      <th>5</th>\n      <td>45.0</td>\n      <td>0.623</td>\n      <td>0.220</td>\n      <td>NaN</td>\n      <td>318.15</td>\n    </tr>\n    <tr>\n      <th>6</th>\n      <td>50.0</td>\n      <td>0.613</td>\n      <td>0.211</td>\n      <td>NaN</td>\n      <td>323.15</td>\n    </tr>\n    <tr>\n      <th>7</th>\n      <td>55.0</td>\n      <td>0.603</td>\n      <td>0.202</td>\n      <td>NaN</td>\n      <td>328.15</td>\n    </tr>\n    <tr>\n      <th>8</th>\n      <td>62.0</td>\n      <td>0.588</td>\n      <td>0.187</td>\n      <td>NaN</td>\n      <td>335.15</td>\n    </tr>\n    <tr>\n      <th>9</th>\n      <td>69.0</td>\n      <td>0.572</td>\n      <td>0.171</td>\n      <td>NaN</td>\n      <td>342.15</td>\n    </tr>\n    <tr>\n      <th>10</th>\n      <td>NaN</td>\n      <td>NaN</td>\n      <td>NaN</td>\n      <td>NaN</td>\n      <td>NaN</td>\n    </tr>\n  </tbody>\n</table>\n</div>"
     },
     "metadata": {},
     "output_type": "execute_result",
     "execution_count": 138
    }
   ],
   "source": [
    "df_task_2['T [K]'] = df_task_2['T [C]'] + 273.15\n",
    "df_task_2"
   ],
   "metadata": {
    "collapsed": false,
    "pycharm": {
     "name": "#%%\n",
     "is_executing": false
    }
   }
  },
  {
   "cell_type": "markdown",
   "source": [
    "### Wykresy zależności U(T) dla Krzemu\n"
   ],
   "metadata": {
    "collapsed": false,
    "pycharm": {
     "name": "#%% md\n",
     "is_executing": false
    }
   }
  },
  {
   "cell_type": "code",
   "execution_count": 143,
   "outputs": [
    {
     "data": {
      "text/plain": "<seaborn.axisgrid.FacetGrid at 0x7fce7f2978b0>"
     },
     "metadata": {},
     "output_type": "execute_result",
     "execution_count": 143
    },
    {
     "data": {
      "text/plain": "<Figure size 576x576 with 1 Axes>",
      "image/png": "[encoded data removed]"
     },
     "metadata": {},
     "output_type": "display_data"
    }
   ],
   "source": [
    "sns.relplot(x='U_Si [V]', y='T [K]', height=8, data=df_task_2)\n"
   ],
   "metadata": {
    "collapsed": false,
    "pycharm": {
     "name": "#%%\n",
     "is_executing": false
    }
   }
  },
  {
   "cell_type": "markdown",
   "source": [
    "### Wykresy zależności U(T) dla Germanu"
   ],
   "metadata": {
    "collapsed": false,
    "pycharm": {
     "name": "#%% md\n"
    }
   }
  },
  {
   "cell_type": "code",
   "execution_count": 144,
   "outputs": [
    {
     "data": {
      "text/plain": "<seaborn.axisgrid.FacetGrid at 0x7fce81bd8130>"
     },
     "metadata": {},
     "output_type": "execute_result",
     "execution_count": 144
    },
    {
     "data": {
      "text/plain": "<Figure size 576x576 with 1 Axes>",
      "image/png": "[encoded data removed]"
     },
     "metadata": {},
     "output_type": "display_data"
    }
   ],
   "source": [
    "sns.relplot(x='U_Ge [V]', y='T [K]', height=8, data=df_task_2)"
   ],
   "metadata": {
    "collapsed": false,
    "pycharm": {
     "name": "#%%\n",
     "is_executing": false
    }
   }
  },
  {
   "cell_type": "markdown",
   "source": [
    "### Budowanie modelu regresji liniowej\n"
   ],
   "metadata": {
    "collapsed": false,
    "pycharm": {
     "name": "#%% md\n",
     "is_executing": false
    }
   }
  },
  {
   "cell_type": "code",
   "execution_count": 150,
   "outputs": [
    {
     "name": "stdout",
     "text": [
      "Model dla krzemu:\n",
      " \n",
      "-0.001857 x + 1.211\n",
      "Model dla Germanu:\n",
      " \n",
      "-0.001777 x + 0.7831\n"
     ],
     "output_type": "stream"
    }
   ],
   "source": [
    "x = df_task_2['T [K]'].dropna()\n",
    "y =df_task_2['U_Si [V]'].dropna()\n",
    "model_si_Eg = np.poly1d(np.polyfit(x,y,1))\n",
    "y =df_task_2['U_Ge [V]'].dropna()\n",
    "model_ge_Eg = np.poly1d(np.polyfit(x,y,1))\n",
    "print('Model dla krzemu:')\n",
    "print(model_si_Eg)\n",
    "print('Model dla Germanu:')\n",
    "print(model_ge_Eg)\n"
   ],
   "metadata": {
    "collapsed": false,
    "pycharm": {
     "name": "#%%\n",
     "is_executing": false
    }
   }
  },
  {
   "cell_type": "markdown",
   "source": [
    "### Wyznaczanie przerw energtycznych E<sub>g</sub>\n"
   ],
   "metadata": {
    "collapsed": false,
    "pycharm": {
     "name": "#%% md\n",
     "is_executing": false
    }
   }
  },
  {
   "cell_type": "code",
   "execution_count": 151,
   "outputs": [
    {
     "name": "stdout",
     "text": [
      "Przerwa energetyczna dla Krzemu: -1.9403217897783498e-19\n",
      "Przerwa energetyczna dla Germanu: -1.2545866126789331e-19\n"
     ],
     "output_type": "stream"
    }
   ],
   "source": [
    "b_si = model_si_Eg.coef[1]\n",
    "b_ge = model_ge_Eg.coef[1]\n",
    "Eg_si = b_si * e\n",
    "Eg_ge = b_ge * e\n",
    "print(f\"Przerwa energetyczna dla Krzemu: {Eg_si}\")\n",
    "print(f\"Przerwa energetyczna dla Germanu: {Eg_ge}\")\n"
   ],
   "metadata": {
    "collapsed": false,
    "pycharm": {
     "name": "#%%\n",
     "is_executing": false
    }
   }
  },
  {
   "cell_type": "code",
   "execution_count": null,
   "outputs": [],
   "source": [
    "\n"
   ],
   "metadata": {
    "collapsed": false,
    "pycharm": {
     "name": "#%%\n"
    }
   }
  }
 ],
 "metadata": {
  "kernelspec": {
   "name": "pycharm-2e16c6ab",
   "language": "python",
   "display_name": "PyCharm (Laboratories)"
  },
  "language_info": {
   "codemirror_mode": {
    "name": "ipython",
    "version": 2
   },
   "file_extension": ".py",
   "mimetype": "text/x-python",
   "name": "python",
   "nbconvert_exporter": "python",
   "pygments_lexer": "ipython2",
   "version": "2.7.6"
  },
  "pycharm": {
   "stem_cell": {
    "cell_type": "raw",
    "source": [],
    "metadata": {
     "collapsed": false
    }
   }
  }
 },
 "nbformat": 4,
 "nbformat_minor": 0
}