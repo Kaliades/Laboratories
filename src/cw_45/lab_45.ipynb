{
 "cells": [
  {
   "cell_type": "code",
   "execution_count": 74,
   "metadata": {
    "collapsed": true,
    "pycharm": {
     "is_executing": false
    }
   },
   "outputs": [],
   "source": [
    "import pandas as pd\n",
    "import numpy as np\n",
    "import gc\n",
    "import seaborn as sns\n",
    "import matplotlib.pyplot as plt\n",
    "sns.set(style=\"darkgrid\")\n",
    "def convert_to_number(series,start=0):\n",
    "    return series.loc[start:].replace(to_replace=r'[,]',value='.', regex=True).astype(float)"
   ]
  },
  {
   "cell_type": "code",
   "execution_count": 20,
   "outputs": [
    {
     "data": {
      "text/plain": "   t1(s)  t2(s)    l\n0    5.5   38.2  1,6\n1    8.9   79.9  NaN\n2   16.0   27.9  NaN\n3    8.8   24.9  NaN\n4    4.1   48.7  NaN",
      "text/html": "<div>\n<style scoped>\n    .dataframe tbody tr th:only-of-type {\n        vertical-align: middle;\n    }\n\n    .dataframe tbody tr th {\n        vertical-align: top;\n    }\n\n    .dataframe thead th {\n        text-align: right;\n    }\n</style>\n<table border=\"1\" class=\"dataframe\">\n  <thead>\n    <tr style=\"text-align: right;\">\n      <th></th>\n      <th>t1(s)</th>\n      <th>t2(s)</th>\n      <th>l</th>\n    </tr>\n  </thead>\n  <tbody>\n    <tr>\n      <th>0</th>\n      <td>5.5</td>\n      <td>38.2</td>\n      <td>1,6</td>\n    </tr>\n    <tr>\n      <th>1</th>\n      <td>8.9</td>\n      <td>79.9</td>\n      <td>NaN</td>\n    </tr>\n    <tr>\n      <th>2</th>\n      <td>16.0</td>\n      <td>27.9</td>\n      <td>NaN</td>\n    </tr>\n    <tr>\n      <th>3</th>\n      <td>8.8</td>\n      <td>24.9</td>\n      <td>NaN</td>\n    </tr>\n    <tr>\n      <th>4</th>\n      <td>4.1</td>\n      <td>48.7</td>\n      <td>NaN</td>\n    </tr>\n  </tbody>\n</table>\n</div>"
     },
     "metadata": {},
     "output_type": "execute_result",
     "execution_count": 20
    }
   ],
   "source": [
    "df = pd.read_csv('../../data/45/data45.csv')\n",
    "df['t1(s)'] = convert_to_number(df['t1(s)'])\n",
    "df['t2(s)'] = convert_to_number(df['t2(s)'])\n",
    "df.head()"
   ],
   "metadata": {
    "collapsed": false,
    "pycharm": {
     "name": "#%%\n",
     "is_executing": false
    }
   }
  },
  {
   "cell_type": "code",
   "execution_count": 21,
   "outputs": [
    {
     "data": {
      "text/plain": "   t1(s)  t2(s)    l  v_up [m/s]  v_down [m/s]\n0    5.5   38.2  1,6    0.000291      0.000042\n1    8.9   79.9  NaN    0.000180      0.000020\n2   16.0   27.9  NaN    0.000100      0.000057\n3    8.8   24.9  NaN    0.000182      0.000064\n4    4.1   48.7  NaN    0.000390      0.000033",
      "text/html": "<div>\n<style scoped>\n    .dataframe tbody tr th:only-of-type {\n        vertical-align: middle;\n    }\n\n    .dataframe tbody tr th {\n        vertical-align: top;\n    }\n\n    .dataframe thead th {\n        text-align: right;\n    }\n</style>\n<table border=\"1\" class=\"dataframe\">\n  <thead>\n    <tr style=\"text-align: right;\">\n      <th></th>\n      <th>t1(s)</th>\n      <th>t2(s)</th>\n      <th>l</th>\n      <th>v_up [m/s]</th>\n      <th>v_down [m/s]</th>\n    </tr>\n  </thead>\n  <tbody>\n    <tr>\n      <th>0</th>\n      <td>5.5</td>\n      <td>38.2</td>\n      <td>1,6</td>\n      <td>0.000291</td>\n      <td>0.000042</td>\n    </tr>\n    <tr>\n      <th>1</th>\n      <td>8.9</td>\n      <td>79.9</td>\n      <td>NaN</td>\n      <td>0.000180</td>\n      <td>0.000020</td>\n    </tr>\n    <tr>\n      <th>2</th>\n      <td>16.0</td>\n      <td>27.9</td>\n      <td>NaN</td>\n      <td>0.000100</td>\n      <td>0.000057</td>\n    </tr>\n    <tr>\n      <th>3</th>\n      <td>8.8</td>\n      <td>24.9</td>\n      <td>NaN</td>\n      <td>0.000182</td>\n      <td>0.000064</td>\n    </tr>\n    <tr>\n      <th>4</th>\n      <td>4.1</td>\n      <td>48.7</td>\n      <td>NaN</td>\n      <td>0.000390</td>\n      <td>0.000033</td>\n    </tr>\n  </tbody>\n</table>\n</div>"
     },
     "metadata": {},
     "output_type": "execute_result",
     "execution_count": 21
    }
   ],
   "source": [
    "# t1 up, t2 down\n",
    "l = 1.6 / (10*100) \n",
    "df['v_up [m/s]'] = l / df['t1(s)']\n",
    "df['v_down [m/s]'] = l / df['t2(s)']\n",
    "df.head()"
   ],
   "metadata": {
    "collapsed": false,
    "pycharm": {
     "name": "#%%\n",
     "is_executing": false
    }
   }
  },
  {
   "cell_type": "code",
   "execution_count": 40,
   "outputs": [
    {
     "data": {
      "text/plain": "2.045503257571124e-18"
     },
     "metadata": {},
     "output_type": "execute_result",
     "execution_count": 40
    }
   ],
   "source": [
    "import math\n",
    "# wzór 19\n",
    "u = 550 \n",
    "q_1 = 2 * math.pow(10, -10) * np.sqrt(np.power(df['v_up [m/s]'], 3))/u\n",
    "q_1.mean()"
   ],
   "metadata": {
    "collapsed": false,
    "pycharm": {
     "name": "#%%\n",
     "is_executing": false
    }
   }
  },
  {
   "cell_type": "code",
   "execution_count": 41,
   "outputs": [
    {
     "data": {
      "text/plain": "2.2872521594760017e-18"
     },
     "metadata": {},
     "output_type": "execute_result",
     "execution_count": 41
    }
   ],
   "source": [
    "# wzór 14\n",
    "q_2 = 2 * math.pow(10, -10) * np.sqrt(df['v_up [m/s]'])/u * (df['v_up [m/s]']+df['v_down [m/s]'])\n",
    "q_2.mean()"
   ],
   "metadata": {
    "collapsed": false,
    "pycharm": {
     "name": "#%%\n",
     "is_executing": false
    }
   }
  },
  {
   "cell_type": "code",
   "execution_count": 42,
   "outputs": [],
   "source": [
    "true_value = 1.6*math.pow(10,-19)\n",
    "\n",
    "def relatie_error(_exp, is_val):\n",
    "    return  np.sqrt(np.power(_exp-is_val,2))/_exp * 100\n"
   ],
   "metadata": {
    "collapsed": false,
    "pycharm": {
     "name": "#%%\n",
     "is_executing": false
    }
   }
  },
  {
   "cell_type": "code",
   "execution_count": 43,
   "outputs": [
    {
     "name": "stdout",
     "text": [
      "q_1 realive error 1178.4395359819525\n",
      "q_2 realive error 1329.532599672501\n"
     ],
     "output_type": "stream"
    }
   ],
   "source": [
    "print(f'q_1 realive error {relatie_error(true_value, q_1.mean())}')\n",
    "print(f'q_2 realive error {relatie_error(true_value, q_2.mean())}')"
   ],
   "metadata": {
    "collapsed": false,
    "pycharm": {
     "name": "#%%\n",
     "is_executing": false
    }
   }
  },
  {
   "cell_type": "code",
   "execution_count": 136,
   "outputs": [],
   "source": [
    "width = math.ceil((q_2.max()-q_2.min())/math.pow(10, -20))\n",
    "bins = np.arange(q_2.min(), q_2.max(),width).shape"
   ],
   "metadata": {
    "collapsed": false,
    "pycharm": {
     "name": "#%%\n",
     "is_executing": false
    }
   }
  },
  {
   "cell_type": "code",
   "execution_count": 153,
   "outputs": [
    {
     "data": {
      "text/plain": "<matplotlib.axes._subplots.AxesSubplot at 0x7fa940196ca0>"
     },
     "metadata": {},
     "output_type": "execute_result",
     "execution_count": 153
    },
    {
     "data": {
      "text/plain": "<Figure size 432x288 with 1 Axes>",
      "image/png": "[encoded data removed]"
     },
     "metadata": {},
     "output_type": "display_data"
    }
   ],
   "source": [
    "sns.distplot(q_2, bins=width, kde=False, color='r')\n",
    "\n"
   ],
   "metadata": {
    "collapsed": false,
    "pycharm": {
     "name": "#%%\n",
     "is_executing": false
    }
   }
  },
  {
   "cell_type": "code",
   "execution_count": 71,
   "outputs": [
    {
     "data": {
      "text/plain": "4.452695906865299"
     },
     "metadata": {},
     "output_type": "execute_result",
     "execution_count": 71
    }
   ],
   "source": [
    "relatie_error(true_value, q_2.min()/2)\n",
    "\n"
   ],
   "metadata": {
    "collapsed": false,
    "pycharm": {
     "name": "#%%\n",
     "is_executing": false
    }
   }
  },
  {
   "cell_type": "code",
   "execution_count": 142,
   "outputs": [],
   "source": [
    "#plt.hist(np.histogram(q_2,weights=np.arange(q_2.min(), q_2.max(),width)))\n"
   ],
   "metadata": {
    "collapsed": false,
    "pycharm": {
     "name": "#%%\n",
     "is_executing": false
    }
   }
  },
  {
   "cell_type": "code",
   "execution_count": 165,
   "outputs": [
    {
     "name": "stderr",
     "text": [
      "<ipython-input-165-cd331b69ed2f>:5: UserWarning: Matplotlib is currently using agg, which is a non-GUI backend, so cannot show the figure.\n",
      "  plt.show()\n"
     ],
     "output_type": "stream"
    },
    {
     "data": {
      "text/plain": "<Figure size 1080x1080 with 1 Axes>",
      "image/png": "[encoded data removed]"
     },
     "metadata": {},
     "output_type": "display_data"
    }
   ],
   "source": [
    "plt.figure(figsize=(15, 15))\n",
    "ax = plt.hist(q_2, bins=width, color='r',histtype='step', range=[q_2.min(), q_2.max()])\n",
    "plt.xlabel(\"q\")\n",
    "plt.ylabel(\"n\")\n",
    "plt.show()"
   ],
   "metadata": {
    "collapsed": false,
    "pycharm": {
     "name": "#%%\n",
     "is_executing": false
    }
   }
  },
  {
   "cell_type": "code",
   "execution_count": 141,
   "outputs": [],
   "source": [
    "#sns.distplot(q_2, kde=True, hist=True, hist_kws={\"range\":[q_2.min(),q_2.min()+math.pow(10, -20)]})\n"
   ],
   "metadata": {
    "collapsed": false,
    "pycharm": {
     "name": "#%%\n",
     "is_executing": false
    }
   }
  },
  {
   "cell_type": "code",
   "execution_count": 229,
   "outputs": [],
   "source": [
    "q_2_copy = q_2.sort_values().copy().tolist()\n",
    "grups = list()\n",
    "while len(q_2_copy)>0:\n",
    "    value = min(q_2_copy) + math.pow(10, -20)\n",
    "    r= list(filter(lambda it: it <= value, q_2_copy))\n",
    "    grups.append(r)\n",
    "    q_2_copy = list(set(q_2_copy)-set(r))"
   ],
   "metadata": {
    "collapsed": false,
    "pycharm": {
     "name": "#%%\n",
     "is_executing": false
    }
   }
  },
  {
   "cell_type": "code",
   "execution_count": 259,
   "outputs": [],
   "source": [
    "results = list()\n",
    "for i in range(0, len(grups)-1):\n",
    "    result = -1*(np.array(grups[i]).mean() - np.array(grups[i+1]).mean())\n",
    "    results.append(result)"
   ],
   "metadata": {
    "collapsed": false,
    "pycharm": {
     "name": "#%%\n",
     "is_executing": false
    }
   }
  },
  {
   "cell_type": "code",
   "execution_count": 260,
   "outputs": [
    {
     "data": {
      "text/plain": "4.683416946010162"
     },
     "metadata": {},
     "output_type": "execute_result",
     "execution_count": 260
    }
   ],
   "source": [
    "val = np.array(results).mean()\n",
    "relatie_error(true_value, val)"
   ],
   "metadata": {
    "collapsed": false,
    "pycharm": {
     "name": "#%%\n",
     "is_executing": false
    }
   }
  },
  {
   "cell_type": "code",
   "execution_count": 236,
   "outputs": [
    {
     "data": {
      "text/plain": "[3.458745677245185e-19]"
     },
     "metadata": {},
     "output_type": "execute_result",
     "execution_count": 236
    }
   ],
   "source": [
    "grups[1]\n"
   ],
   "metadata": {
    "collapsed": false,
    "pycharm": {
     "name": "#%%\n",
     "is_executing": false
    }
   }
  },
  {
   "cell_type": "code",
   "execution_count": 238,
   "outputs": [
    {
     "data": {
      "text/plain": "[3.34248626901969e-19, 3.396748103644624e-19, 3.4328586461791723e-19]"
     },
     "metadata": {},
     "output_type": "execute_result",
     "execution_count": 238
    }
   ],
   "source": [
    "grups[0]"
   ],
   "metadata": {
    "collapsed": false,
    "pycharm": {
     "name": "#%%\n",
     "is_executing": false
    }
   }
  },
  {
   "cell_type": "code",
   "execution_count": 249,
   "outputs": [],
   "source": [
    "\n"
   ],
   "metadata": {
    "collapsed": false,
    "pycharm": {
     "name": "#%%\n",
     "is_executing": false
    }
   }
  },
  {
   "cell_type": "code",
   "execution_count": 249,
   "outputs": [],
   "source": [
    "\n"
   ],
   "metadata": {
    "collapsed": false,
    "pycharm": {
     "name": "#%%\n",
     "is_executing": false
    }
   }
  }
 ],
 "metadata": {
  "kernelspec": {
   "name": "pycharm-2e16c6ab",
   "language": "python",
   "display_name": "PyCharm (Laboratories)"
  },
  "language_info": {
   "codemirror_mode": {
    "name": "ipython",
    "version": 2
   },
   "file_extension": ".py",
   "mimetype": "text/x-python",
   "name": "python",
   "nbconvert_exporter": "python",
   "pygments_lexer": "ipython2",
   "version": "2.7.6"
  },
  "pycharm": {
   "stem_cell": {
    "cell_type": "raw",
    "source": [],
    "metadata": {
     "collapsed": false
    }
   }
  }
 },
 "nbformat": 4,
 "nbformat_minor": 0
}