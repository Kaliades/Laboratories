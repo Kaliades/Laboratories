{
 "cells": [
  {
   "cell_type": "code",
   "execution_count": 1,
   "metadata": {
    "collapsed": true,
    "pycharm": {
     "is_executing": false
    }
   },
   "outputs": [],
   "source": [
    "import csv"
   ]
  },
  {
   "cell_type": "code",
   "execution_count": 62,
   "outputs": [],
   "source": [
    "import re\n",
    "with open('../data/pomiary.txt', newline='') as file:\n",
    "    text = file.read()\n",
    "    text = re.sub(\"[,]\", \".\", text)\n",
    "    text = re.sub(\"[ ]\",\",\",text)\n",
    "with open(\"../data/pomiary-copy.txt\", mode='w') as file:\n",
    "    file.write(text)"
   ],
   "metadata": {
    "collapsed": false,
    "pycharm": {
     "name": "#%%\n",
     "is_executing": false
    }
   }
  },
  {
   "cell_type": "code",
   "execution_count": 8,
   "outputs": [],
   "source": [
    "import pandas as pd\n",
    "\n"
   ],
   "metadata": {
    "collapsed": false,
    "pycharm": {
     "name": "#%%\n",
     "is_executing": false
    }
   }
  },
  {
   "cell_type": "code",
   "execution_count": 73,
   "outputs": [
    {
     "data": {
      "text/plain": "    U[v]  I[mA]\n0   0.15   0.55\n1   0.25   0.54\n2   0.39   0.55\n3   0.50   0.53\n4   0.63   0.52\n5   0.77   0.50\n6   0.90   0.50\n7   1.10   0.48\n8   1.15   0.45\n9   1.25   0.44\n10  1.30   0.43\n11  1.37   0.40\n12  1.40   0.37\n13  1.46   0.35\n14  1.48   0.33\n15  1.50   0.30\n16  1.50   0.26\n17  1.50   0.22",
      "text/html": "<div>\n<style scoped>\n    .dataframe tbody tr th:only-of-type {\n        vertical-align: middle;\n    }\n\n    .dataframe tbody tr th {\n        vertical-align: top;\n    }\n\n    .dataframe thead th {\n        text-align: right;\n    }\n</style>\n<table border=\"1\" class=\"dataframe\">\n  <thead>\n    <tr style=\"text-align: right;\">\n      <th></th>\n      <th>U[v]</th>\n      <th>I[mA]</th>\n    </tr>\n  </thead>\n  <tbody>\n    <tr>\n      <th>0</th>\n      <td>0.15</td>\n      <td>0.55</td>\n    </tr>\n    <tr>\n      <th>1</th>\n      <td>0.25</td>\n      <td>0.54</td>\n    </tr>\n    <tr>\n      <th>2</th>\n      <td>0.39</td>\n      <td>0.55</td>\n    </tr>\n    <tr>\n      <th>3</th>\n      <td>0.50</td>\n      <td>0.53</td>\n    </tr>\n    <tr>\n      <th>4</th>\n      <td>0.63</td>\n      <td>0.52</td>\n    </tr>\n    <tr>\n      <th>5</th>\n      <td>0.77</td>\n      <td>0.50</td>\n    </tr>\n    <tr>\n      <th>6</th>\n      <td>0.90</td>\n      <td>0.50</td>\n    </tr>\n    <tr>\n      <th>7</th>\n      <td>1.10</td>\n      <td>0.48</td>\n    </tr>\n    <tr>\n      <th>8</th>\n      <td>1.15</td>\n      <td>0.45</td>\n    </tr>\n    <tr>\n      <th>9</th>\n      <td>1.25</td>\n      <td>0.44</td>\n    </tr>\n    <tr>\n      <th>10</th>\n      <td>1.30</td>\n      <td>0.43</td>\n    </tr>\n    <tr>\n      <th>11</th>\n      <td>1.37</td>\n      <td>0.40</td>\n    </tr>\n    <tr>\n      <th>12</th>\n      <td>1.40</td>\n      <td>0.37</td>\n    </tr>\n    <tr>\n      <th>13</th>\n      <td>1.46</td>\n      <td>0.35</td>\n    </tr>\n    <tr>\n      <th>14</th>\n      <td>1.48</td>\n      <td>0.33</td>\n    </tr>\n    <tr>\n      <th>15</th>\n      <td>1.50</td>\n      <td>0.30</td>\n    </tr>\n    <tr>\n      <th>16</th>\n      <td>1.50</td>\n      <td>0.26</td>\n    </tr>\n    <tr>\n      <th>17</th>\n      <td>1.50</td>\n      <td>0.22</td>\n    </tr>\n  </tbody>\n</table>\n</div>"
     },
     "metadata": {},
     "output_type": "execute_result",
     "execution_count": 73
    }
   ],
   "source": [
    "df = pd.read_csv('../data/pomiary-copy.txt')\n",
    "df = df.drop(\"l.p\", 1)\n",
    "df"
   ],
   "metadata": {
    "collapsed": false,
    "pycharm": {
     "name": "#%%\n",
     "is_executing": false
    }
   }
  },
  {
   "cell_type": "code",
   "execution_count": 77,
   "outputs": [],
   "source": [
    "import matplotlib.pyplot as plt\n",
    "import seaborn as sns\n",
    "import numpy as np"
   ],
   "metadata": {
    "collapsed": false,
    "pycharm": {
     "name": "#%%\n",
     "is_executing": false
    }
   }
  },
  {
   "cell_type": "code",
   "execution_count": 76,
   "outputs": [
    {
     "data": {
      "text/plain": "<seaborn.axisgrid.FacetGrid at 0x7fcbebd4e710>"
     },
     "metadata": {},
     "output_type": "execute_result",
     "execution_count": 76
    },
    {
     "data": {
      "text/plain": "<Figure size 360x360 with 1 Axes>",
      "image/png": "[encoded data removed]"
     },
     "metadata": {},
     "output_type": "display_data"
    }
   ],
   "source": [
    "sns.set(style=\"darkgrid\")\n",
    "sns.relplot(x=\"U[v]\", y=\"I[mA]\", data=df)\n"
   ],
   "metadata": {
    "collapsed": false,
    "pycharm": {
     "name": "#%%\n",
     "is_executing": false
    }
   }
  },
  {
   "cell_type": "code",
   "execution_count": 90,
   "outputs": [
    {
     "data": {
      "text/plain": "poly1d([-0.69599381,  2.00526113, -1.99243196,  0.69336149,  0.47640273])"
     },
     "metadata": {},
     "output_type": "execute_result",
     "execution_count": 90
    }
   ],
   "source": [
    "y = df['I[mA]'].to_numpy()\n",
    "x = df[\"U[v]\"].to_numpy()\n",
    "p = np.poly1d(np.polyfit(x,y,4))\n",
    "np.poly1d(p)"
   ],
   "metadata": {
    "collapsed": false,
    "pycharm": {
     "name": "#%%\n",
     "is_executing": false
    }
   }
  },
  {
   "cell_type": "code",
   "execution_count": null,
   "outputs": [],
   "source": [
    "\n"
   ],
   "metadata": {
    "collapsed": false,
    "pycharm": {
     "name": "#%%\n"
    }
   }
  }
 ],
 "metadata": {
  "kernelspec": {
   "name": "pycharm-fb7a4cef",
   "language": "python",
   "display_name": "PyCharm (cw-57)"
  },
  "language_info": {
   "codemirror_mode": {
    "name": "ipython",
    "version": 2
   },
   "file_extension": ".py",
   "mimetype": "text/x-python",
   "name": "python",
   "nbconvert_exporter": "python",
   "pygments_lexer": "ipython2",
   "version": "2.7.6"
  },
  "pycharm": {
   "stem_cell": {
    "cell_type": "raw",
    "source": [],
    "metadata": {
     "collapsed": false
    }
   }
  }
 },
 "nbformat": 4,
 "nbformat_minor": 0
}